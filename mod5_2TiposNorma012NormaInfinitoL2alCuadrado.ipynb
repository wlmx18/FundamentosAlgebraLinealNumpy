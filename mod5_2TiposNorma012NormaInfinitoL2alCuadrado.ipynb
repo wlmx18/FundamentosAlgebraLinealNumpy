{
 "cells": [
  {
   "cell_type": "code",
   "execution_count": 1,
   "metadata": {},
   "outputs": [
    {
     "data": {
      "text/plain": [
       "'\\nLa norma se usa en machine learning para encontrar errores.\\nLa norma L0: devuelve la cantidad de elementos diferentes de 0 del vector.\\nLa norma L1: devuelve la suma de los valores absolutos de los elementos del vector.\\nLa norma L2: La magnitud del vector desde su origen.\\nLa norma infinito: devuelve el valor absoluto más grande del vector\\n'"
      ]
     },
     "execution_count": 1,
     "metadata": {},
     "output_type": "execute_result"
    }
   ],
   "source": [
    "'''\n",
    "La norma se usa en machine learning para encontrar errores.\n",
    "La norma L0: devuelve la cantidad de elementos diferentes de 0 del vector.\n",
    "La norma L1: devuelve la suma de los valores absolutos de los elementos del vector.\n",
    "La norma L2: La magnitud del vector desde su origen.\n",
    "La norma infinito: devuelve el valor absoluto más grande del vector\n",
    "'''\n",
    "#Las normas se llamaran por la letra L\n",
    "#L0 : #Vi != 0\n",
    "#L1 : Zumai.abs(Vi) \n",
    "#L2 : La magnitud del vector desde su origen\n",
    "    #distancia Euclidiana\n",
    "\n",
    "#(L2)**2 : Usa la misma magnitud de L2\n",
    "    #Se usa mucho en AA\n",
    "    #Calculamos la norma a unvector directamente aplicando el producto interno del v contra si mismo\n",
    "    #x.dot(x**t)\n",
    "    #Tiene muchas ventajas computacionales\n",
    "#Linfinito : maxi.abs(Vi)"
   ]
  },
  {
   "cell_type": "code",
   "execution_count": 2,
   "metadata": {},
   "outputs": [],
   "source": [
    "import numpy as np\n"
   ]
  },
  {
   "cell_type": "code",
   "execution_count": 3,
   "metadata": {},
   "outputs": [
    {
     "name": "stdout",
     "output_type": "stream",
     "text": [
      "4.0\n"
     ]
    }
   ],
   "source": [
    "vector = np.array([1,2,0,5,6,0])\n",
    "print(np.linalg.norm(vector, ord = 0))\n",
    "#El resultado es 4 xq 1,2,5,6"
   ]
  },
  {
   "cell_type": "code",
   "execution_count": 4,
   "metadata": {},
   "outputs": [],
   "source": [
    "#El vector esta representando las personas que realizaron compras, alcanzaria con aplicar la norma cero al vector"
   ]
  },
  {
   "cell_type": "code",
   "execution_count": 8,
   "metadata": {},
   "outputs": [
    {
     "name": "stdout",
     "output_type": "stream",
     "text": [
      "Nos devuelve la suma de todos los valores absolutos de los elementos del vector\n",
      "5.0\n"
     ]
    }
   ],
   "source": [
    "vector = np.array([1,-1,1,-1,1])\n",
    "print('Nos devuelve la suma de todos los valores absolutos de los elementos del vector')\n",
    "print(np.linalg.norm(vector, ord = 1))"
   ]
  },
  {
   "cell_type": "code",
   "execution_count": 21,
   "metadata": {},
   "outputs": [
    {
     "name": "stdout",
     "output_type": "stream",
     "text": [
      "1.4142135623730951\n",
      "1.4142135623730951\n"
     ]
    }
   ],
   "source": [
    "vector = np.array([1,1])\n",
    "print(np.linalg.norm(vector))\n",
    "print(np.linalg.norm(vector, ord = 2))\n",
    "#Si no seteamos la norma , por defecto entrega L2"
   ]
  },
  {
   "cell_type": "code",
   "execution_count": 14,
   "metadata": {},
   "outputs": [
    {
     "name": "stdout",
     "output_type": "stream",
     "text": [
      "[1 2 3 4 5 6]\n"
     ]
    }
   ],
   "source": [
    "vector= np.array([1,2,3,4,5,6])\n",
    "print(vector)"
   ]
  },
  {
   "cell_type": "code",
   "execution_count": 15,
   "metadata": {},
   "outputs": [
    {
     "name": "stdout",
     "output_type": "stream",
     "text": [
      "9.539392014169456\n"
     ]
    }
   ],
   "source": [
    "print(np.linalg.norm(vector,ord=2))"
   ]
  },
  {
   "cell_type": "code",
   "execution_count": 16,
   "metadata": {},
   "outputs": [
    {
     "name": "stdout",
     "output_type": "stream",
     "text": [
      "91.0\n"
     ]
    }
   ],
   "source": [
    "print((np.linalg.norm(vector,ord=2)**2))\n",
    "#Tiene ventajas computacionales \n",
    "#Es la norma mas usada"
   ]
  },
  {
   "cell_type": "code",
   "execution_count": 17,
   "metadata": {},
   "outputs": [
    {
     "name": "stdout",
     "output_type": "stream",
     "text": [
      "91\n"
     ]
    }
   ],
   "source": [
    "print(vector.dot(vector.T))\n",
    "#Tiene ventajas computacionales \n",
    "#Es la norma mas usada"
   ]
  },
  {
   "cell_type": "code",
   "execution_count": 22,
   "metadata": {},
   "outputs": [
    {
     "name": "stdout",
     "output_type": "stream",
     "text": [
      "Norma infinito\n",
      "100.0\n",
      "Convirtio el -100 en 100\n"
     ]
    }
   ],
   "source": [
    "print('Norma infinito')\n",
    "vector = np.array([1,2,3,-100])\n",
    "print(np.linalg.norm(vector, ord=np.inf))\n",
    "print('Convirtio el -100 en 100')"
   ]
  },
  {
   "cell_type": "code",
   "execution_count": 23,
   "metadata": {},
   "outputs": [
    {
     "name": "stdout",
     "output_type": "stream",
     "text": [
      "1.0\n"
     ]
    }
   ],
   "source": [
    "v1 = np.array([0.5,0.5,0.5,0.5])\n",
    "print(np.linalg.norm(v1))"
   ]
  },
  {
   "cell_type": "code",
   "execution_count": 24,
   "metadata": {},
   "outputs": [
    {
     "name": "stdout",
     "output_type": "stream",
     "text": [
      "[[4 6]\n",
      " [8 9]]\n"
     ]
    }
   ],
   "source": [
    "v1 = np.array([[1,3],[5,6]])\n",
    "escalar = 3\n",
    "print(v1+escalar)"
   ]
  },
  {
   "cell_type": "code",
   "execution_count": null,
   "metadata": {},
   "outputs": [],
   "source": []
  }
 ],
 "metadata": {
  "kernelspec": {
   "display_name": "Python 3",
   "language": "python",
   "name": "python3"
  },
  "language_info": {
   "codemirror_mode": {
    "name": "ipython",
    "version": 3
   },
   "file_extension": ".py",
   "mimetype": "text/x-python",
   "name": "python",
   "nbconvert_exporter": "python",
   "pygments_lexer": "ipython3",
   "version": "3.8.3"
  }
 },
 "nbformat": 4,
 "nbformat_minor": 4
}
